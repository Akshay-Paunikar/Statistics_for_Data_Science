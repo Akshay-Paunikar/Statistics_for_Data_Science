{
 "cells": [
  {
   "cell_type": "markdown",
   "metadata": {},
   "source": [
    "### What is Std Error ?"
   ]
  },
  {
   "cell_type": "markdown",
   "metadata": {},
   "source": [
    "In statistics, a sample mean or average deviates from the actual mean of a population. The standard error measures that deviation. \n",
    "\n",
    "Let's say there are 300 million people in the USA. To determine this population's average age, a statistician takes a sample of 1000 people. He/She determines the average age of those samples is 37.5 years old. The actual average age of the entire population will defer from the average of the sample. Standard error is the measure of the accuracy of the sample average.\n",
    "\n",
    "Standard error is the standard deviation of the sampling distribution of a statistic. The standard error is inversely proprotional to the sample size. In other words, the larger the sample size, the smaller the standard error will be. Since, as the sample size grows the sample statistic will approach the actual value of the population. \n",
    "\n",
    "Let's say that the statistician took a sample of 5000 people instead of 1000, then the standard error would be smaller and the average age from the sample will be closer to the actual population average age.\n",
    "\n",
    "The standard error of an estimate can be calculated as the standard deviation divided by the square root of the sample size:\n",
    "\n",
    "SE = σ / √n\n",
    "\n",
    "where,\n",
    "\n",
    "σ = the population standard deviation\n",
    "√n = the square root of the sample size"
   ]
  },
  {
   "cell_type": "markdown",
   "metadata": {},
   "source": [
    "### What is Estimator and Estimates in Statistics?"
   ]
  },
  {
   "cell_type": "markdown",
   "metadata": {},
   "source": [
    "An estimator is a statistic that estimates some fact about the population. You can also think of an estimator as the rule that creates an estimate. For example, the sample mean(x̄) is an estimator for the population mean, μ.\n",
    "\n",
    "The quantity that is being estimated (i.e. the one you want to know) is called the estimand. For example, let’s say you wanted to know the average height of children in a certain school with a population of 1000 students. You take a sample of 30 children, measure them and find that the mean height is 56 inches. This is your sample mean, the estimator. You use the sample mean to estimate that the population mean (your estimand) is about 56 inches.\n",
    "\n",
    "#### Point vs. Interval\n",
    "Estimators can be a range of values (like a confidence interval) or a single value (like the standard deviation). When an estimator is a range of values, it’s called an interval estimate. For the height example above, you might add on a confidence interval of a couple of inches either way, say 54 to 58 inches. When it is a single value — like 56 inches — it’s called a point estimate.\n",
    "\n",
    "#### Types:\n",
    " - Biased: a statistic that is either an overestimate or an underestimate.\n",
    " - Efficient: a statistic with small variances (the one with the smallest possible variance is also called the “best”). Inefficient estimators can give you good results as well, but they usually requires much larger samples.\n",
    " - Invariant: statistics that are not easily changed by transformations, like simple data shifts.\n",
    " - Shrinkage: a raw estimate that’s improved by combining it with other information.\n",
    " - Sufficient: a statistic that estimates the population parameter as well as if you knew all of the data in all possible samples.\n",
    " - Unbiased: an accurate statistic that neither underestimates nor overestimates."
   ]
  },
  {
   "cell_type": "markdown",
   "metadata": {},
   "source": [
    "### What Is Confidence Interval?"
   ]
  },
  {
   "attachments": {
    "image.png": {
     "image/png": "[encoded data removed]"
    }
   },
   "cell_type": "markdown",
   "metadata": {},
   "source": [
    "A confidence interval shows the probability that a parameter will fall between a pair of values around the mean. Confidence intervals show the degree of uncertainty or certainty in a sampling method. They are constructed using confidence levels of 95% or 99%.\n",
    "\n",
    "#### What Does a 95% Confidence Interval Mean?\n",
    "The 95% confidence interval is the range that you can be 95% confident that the similarly constructed intervals will contain the parameter being estimated. The sample mean (center of the CI) will vary from sample to sample because of natural sampling variability.\n",
    "\n",
    "Statisticians use confidence intervals to measure the uncertainty in a sample variable. The confidence is in the method, not in a particular CI. Approximately 95% of the intervals constructed would capture the true population mean if the sampling method was repeated many times.\n",
    "\n",
    "#### Confidence Interval Formula\n",
    "The formula to find Confidence Interval is:\n",
    "\n",
    "![image.png](attachment:image.png)\n",
    "\n",
    " - X bar is the sample mean\n",
    " - Z is the number of standard deviations from the sample mean.\n",
    " - S is the standard deviation in the sample.\n",
    " - n is the size of the sample.\n",
    "\n",
    "The value after the ± symbol is known as the margin of error.\n",
    "\n",
    "Question: In a tree, there are hundreds of mangoes. You randomly choose 40 mangoes with a mean of 80 and a standard deviation of 4.3. Determine that the mangoes are big enough.\n",
    "\n",
    "Solution: \n",
    "\n",
    "Mean = 80\n",
    "\n",
    "Standard deviation = 4.3\n",
    "\n",
    "Number of observations = 40\n",
    "\n",
    "Take the confidence level as 95%. Therefore the value of Z = 1.9\n",
    "\n",
    "Substituting the value in the formula, we get\n",
    "\n",
    " = 80 ± 1.960 × [ 4.3 / √40 ]\n",
    "\n",
    " = 80 ± 1.960 × [ 4.3 / 6.32]\n",
    "\n",
    " = 80 ± 1.960 × 0.6803\n",
    "\n",
    " = 80 ± 1.33\n",
    "\n",
    "The margin of error is 1.33\n",
    "\n",
    "All the hundreds of mangoes are likely to be in the range of 78.67 and 81.33."
   ]
  },
  {
   "cell_type": "markdown",
   "metadata": {},
   "source": []
  }
 ],
 "metadata": {
  "kernelspec": {
   "display_name": "Deep_Learning",
   "language": "python",
   "name": "python3"
  },
  "language_info": {
   "name": "python",
   "version": "3.9.18"
  }
 },
 "nbformat": 4,
 "nbformat_minor": 2
}
