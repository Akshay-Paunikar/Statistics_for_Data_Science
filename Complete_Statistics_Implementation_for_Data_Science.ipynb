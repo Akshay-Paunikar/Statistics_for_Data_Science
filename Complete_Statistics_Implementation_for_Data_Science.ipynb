{
 "cells": [
  {
   "cell_type": "markdown",
   "metadata": {},
   "source": [
    "<h2>Complete Statistics Implementation</h2>"
   ]
  },
  {
   "cell_type": "code",
   "execution_count": 1,
   "metadata": {},
   "outputs": [],
   "source": [
    "# import required libraries\n",
    "import numpy as np\n",
    "import pandas as pd\n",
    "import matplotlib.pyplot as plt\n",
    "%matplotlib inline\n",
    "import seaborn as sns\n",
    "import datetime as dt"
   ]
  },
  {
   "cell_type": "markdown",
   "metadata": {},
   "source": [
    "<h3>01. Exploratory Data Analysis (EDA)</h3>"
   ]
  },
  {
   "cell_type": "code",
   "execution_count": 2,
   "metadata": {},
   "outputs": [],
   "source": [
    "# read the dataset\n",
    "sales_data = pd.read_csv(\"archive/Sales_Data.csv\")"
   ]
  },
  {
   "cell_type": "code",
   "execution_count": 3,
   "metadata": {},
   "outputs": [
    {
     "data": {
      "text/plain": [
       "(185950, 10)"
      ]
     },
     "execution_count": 3,
     "metadata": {},
     "output_type": "execute_result"
    }
   ],
   "source": [
    "# check the dimensions\n",
    "sales_data.shape"
   ]
  },
  {
   "cell_type": "code",
   "execution_count": 4,
   "metadata": {},
   "outputs": [
    {
     "data": {
      "text/html": [
       "<div>\n",
       "<style scoped>\n",
       "    .dataframe tbody tr th:only-of-type {\n",
       "        vertical-align: middle;\n",
       "    }\n",
       "\n",
       "    .dataframe tbody tr th {\n",
       "        vertical-align: top;\n",
       "    }\n",
       "\n",
       "    .dataframe thead th {\n",
       "        text-align: right;\n",
       "    }\n",
       "</style>\n",
       "<table border=\"1\" class=\"dataframe\">\n",
       "  <thead>\n",
       "    <tr style=\"text-align: right;\">\n",
       "      <th></th>\n",
       "      <th>Order ID</th>\n",
       "      <th>Product</th>\n",
       "      <th>Quantity Ordered</th>\n",
       "      <th>Price Each</th>\n",
       "      <th>Order Date</th>\n",
       "      <th>Purchase Address</th>\n",
       "      <th>Month</th>\n",
       "      <th>Sales</th>\n",
       "      <th>City</th>\n",
       "      <th>Hour</th>\n",
       "    </tr>\n",
       "  </thead>\n",
       "  <tbody>\n",
       "    <tr>\n",
       "      <th>0</th>\n",
       "      <td>295665</td>\n",
       "      <td>Macbook Pro Laptop</td>\n",
       "      <td>1</td>\n",
       "      <td>1700.00</td>\n",
       "      <td>12/30/2019 0:01</td>\n",
       "      <td>136 Church St, New York City, NY 10001</td>\n",
       "      <td>12</td>\n",
       "      <td>1700.00</td>\n",
       "      <td>New York City</td>\n",
       "      <td>0</td>\n",
       "    </tr>\n",
       "    <tr>\n",
       "      <th>1</th>\n",
       "      <td>295666</td>\n",
       "      <td>LG Washing Machine</td>\n",
       "      <td>1</td>\n",
       "      <td>600.00</td>\n",
       "      <td>12/29/2019 7:03</td>\n",
       "      <td>562 2nd St, New York City, NY 10001</td>\n",
       "      <td>12</td>\n",
       "      <td>600.00</td>\n",
       "      <td>New York City</td>\n",
       "      <td>7</td>\n",
       "    </tr>\n",
       "    <tr>\n",
       "      <th>2</th>\n",
       "      <td>295667</td>\n",
       "      <td>USB-C Charging Cable</td>\n",
       "      <td>1</td>\n",
       "      <td>11.95</td>\n",
       "      <td>12/12/2019 18:21</td>\n",
       "      <td>277 Main St, New York City, NY 10001</td>\n",
       "      <td>12</td>\n",
       "      <td>11.95</td>\n",
       "      <td>New York City</td>\n",
       "      <td>18</td>\n",
       "    </tr>\n",
       "    <tr>\n",
       "      <th>3</th>\n",
       "      <td>295668</td>\n",
       "      <td>27in FHD Monitor</td>\n",
       "      <td>1</td>\n",
       "      <td>149.99</td>\n",
       "      <td>12/22/2019 15:13</td>\n",
       "      <td>410 6th St, San Francisco, CA 94016</td>\n",
       "      <td>12</td>\n",
       "      <td>149.99</td>\n",
       "      <td>San Francisco</td>\n",
       "      <td>15</td>\n",
       "    </tr>\n",
       "    <tr>\n",
       "      <th>4</th>\n",
       "      <td>295669</td>\n",
       "      <td>USB-C Charging Cable</td>\n",
       "      <td>1</td>\n",
       "      <td>11.95</td>\n",
       "      <td>12/18/2019 12:38</td>\n",
       "      <td>43 Hill St, Atlanta, GA 30301</td>\n",
       "      <td>12</td>\n",
       "      <td>11.95</td>\n",
       "      <td>Atlanta</td>\n",
       "      <td>12</td>\n",
       "    </tr>\n",
       "  </tbody>\n",
       "</table>\n",
       "</div>"
      ],
      "text/plain": [
       "   Order ID               Product  Quantity Ordered  Price Each  \\\n",
       "0    295665    Macbook Pro Laptop                 1     1700.00   \n",
       "1    295666    LG Washing Machine                 1      600.00   \n",
       "2    295667  USB-C Charging Cable                 1       11.95   \n",
       "3    295668      27in FHD Monitor                 1      149.99   \n",
       "4    295669  USB-C Charging Cable                 1       11.95   \n",
       "\n",
       "         Order Date                        Purchase Address  Month    Sales  \\\n",
       "0   12/30/2019 0:01  136 Church St, New York City, NY 10001     12  1700.00   \n",
       "1   12/29/2019 7:03     562 2nd St, New York City, NY 10001     12   600.00   \n",
       "2  12/12/2019 18:21    277 Main St, New York City, NY 10001     12    11.95   \n",
       "3  12/22/2019 15:13     410 6th St, San Francisco, CA 94016     12   149.99   \n",
       "4  12/18/2019 12:38           43 Hill St, Atlanta, GA 30301     12    11.95   \n",
       "\n",
       "             City  Hour  \n",
       "0   New York City     0  \n",
       "1   New York City     7  \n",
       "2   New York City    18  \n",
       "3   San Francisco    15  \n",
       "4         Atlanta    12  "
      ]
     },
     "execution_count": 4,
     "metadata": {},
     "output_type": "execute_result"
    }
   ],
   "source": [
    "# let's have look at the data\n",
    "sales_data.head()"
   ]
  },
  {
   "cell_type": "code",
   "execution_count": 5,
   "metadata": {},
   "outputs": [
    {
     "data": {
      "text/plain": [
       "Order ID              int64\n",
       "Product              object\n",
       "Quantity Ordered      int64\n",
       "Price Each          float64\n",
       "Order Date           object\n",
       "Purchase Address     object\n",
       "Month                 int64\n",
       "Sales               float64\n",
       "City                 object\n",
       "Hour                  int64\n",
       "dtype: object"
      ]
     },
     "execution_count": 5,
     "metadata": {},
     "output_type": "execute_result"
    }
   ],
   "source": [
    "# check datatypes\n",
    "sales_data.dtypes"
   ]
  },
  {
   "cell_type": "code",
   "execution_count": 6,
   "metadata": {},
   "outputs": [
    {
     "data": {
      "text/html": [
       "<div>\n",
       "<style scoped>\n",
       "    .dataframe tbody tr th:only-of-type {\n",
       "        vertical-align: middle;\n",
       "    }\n",
       "\n",
       "    .dataframe tbody tr th {\n",
       "        vertical-align: top;\n",
       "    }\n",
       "\n",
       "    .dataframe thead th {\n",
       "        text-align: right;\n",
       "    }\n",
       "</style>\n",
       "<table border=\"1\" class=\"dataframe\">\n",
       "  <thead>\n",
       "    <tr style=\"text-align: right;\">\n",
       "      <th></th>\n",
       "      <th>count</th>\n",
       "      <th>unique</th>\n",
       "      <th>top</th>\n",
       "      <th>freq</th>\n",
       "      <th>mean</th>\n",
       "      <th>std</th>\n",
       "      <th>min</th>\n",
       "      <th>25%</th>\n",
       "      <th>50%</th>\n",
       "      <th>75%</th>\n",
       "      <th>max</th>\n",
       "    </tr>\n",
       "  </thead>\n",
       "  <tbody>\n",
       "    <tr>\n",
       "      <th>Order ID</th>\n",
       "      <td>185950.0</td>\n",
       "      <td>NaN</td>\n",
       "      <td>NaN</td>\n",
       "      <td>NaN</td>\n",
       "      <td>230417.569379</td>\n",
       "      <td>51512.73711</td>\n",
       "      <td>141234.0</td>\n",
       "      <td>185831.25</td>\n",
       "      <td>230367.5</td>\n",
       "      <td>275035.75</td>\n",
       "      <td>319670.0</td>\n",
       "    </tr>\n",
       "    <tr>\n",
       "      <th>Product</th>\n",
       "      <td>185950</td>\n",
       "      <td>19</td>\n",
       "      <td>USB-C Charging Cable</td>\n",
       "      <td>21903</td>\n",
       "      <td>NaN</td>\n",
       "      <td>NaN</td>\n",
       "      <td>NaN</td>\n",
       "      <td>NaN</td>\n",
       "      <td>NaN</td>\n",
       "      <td>NaN</td>\n",
       "      <td>NaN</td>\n",
       "    </tr>\n",
       "    <tr>\n",
       "      <th>Quantity Ordered</th>\n",
       "      <td>185950.0</td>\n",
       "      <td>NaN</td>\n",
       "      <td>NaN</td>\n",
       "      <td>NaN</td>\n",
       "      <td>1.124383</td>\n",
       "      <td>0.442793</td>\n",
       "      <td>1.0</td>\n",
       "      <td>1.0</td>\n",
       "      <td>1.0</td>\n",
       "      <td>1.0</td>\n",
       "      <td>9.0</td>\n",
       "    </tr>\n",
       "    <tr>\n",
       "      <th>Price Each</th>\n",
       "      <td>185950.0</td>\n",
       "      <td>NaN</td>\n",
       "      <td>NaN</td>\n",
       "      <td>NaN</td>\n",
       "      <td>184.399735</td>\n",
       "      <td>332.73133</td>\n",
       "      <td>2.99</td>\n",
       "      <td>11.95</td>\n",
       "      <td>14.95</td>\n",
       "      <td>150.0</td>\n",
       "      <td>1700.0</td>\n",
       "    </tr>\n",
       "    <tr>\n",
       "      <th>Order Date</th>\n",
       "      <td>185950</td>\n",
       "      <td>142395</td>\n",
       "      <td>12/15/2019 20:16</td>\n",
       "      <td>8</td>\n",
       "      <td>NaN</td>\n",
       "      <td>NaN</td>\n",
       "      <td>NaN</td>\n",
       "      <td>NaN</td>\n",
       "      <td>NaN</td>\n",
       "      <td>NaN</td>\n",
       "      <td>NaN</td>\n",
       "    </tr>\n",
       "    <tr>\n",
       "      <th>Purchase Address</th>\n",
       "      <td>185950</td>\n",
       "      <td>140787</td>\n",
       "      <td>193 Forest St, San Francisco, CA 94016</td>\n",
       "      <td>9</td>\n",
       "      <td>NaN</td>\n",
       "      <td>NaN</td>\n",
       "      <td>NaN</td>\n",
       "      <td>NaN</td>\n",
       "      <td>NaN</td>\n",
       "      <td>NaN</td>\n",
       "      <td>NaN</td>\n",
       "    </tr>\n",
       "    <tr>\n",
       "      <th>Month</th>\n",
       "      <td>185950.0</td>\n",
       "      <td>NaN</td>\n",
       "      <td>NaN</td>\n",
       "      <td>NaN</td>\n",
       "      <td>7.05914</td>\n",
       "      <td>3.502996</td>\n",
       "      <td>1.0</td>\n",
       "      <td>4.0</td>\n",
       "      <td>7.0</td>\n",
       "      <td>10.0</td>\n",
       "      <td>12.0</td>\n",
       "    </tr>\n",
       "    <tr>\n",
       "      <th>Sales</th>\n",
       "      <td>185950.0</td>\n",
       "      <td>NaN</td>\n",
       "      <td>NaN</td>\n",
       "      <td>NaN</td>\n",
       "      <td>185.490917</td>\n",
       "      <td>332.919771</td>\n",
       "      <td>2.99</td>\n",
       "      <td>11.95</td>\n",
       "      <td>14.95</td>\n",
       "      <td>150.0</td>\n",
       "      <td>3400.0</td>\n",
       "    </tr>\n",
       "    <tr>\n",
       "      <th>City</th>\n",
       "      <td>185950</td>\n",
       "      <td>9</td>\n",
       "      <td>San Francisco</td>\n",
       "      <td>44732</td>\n",
       "      <td>NaN</td>\n",
       "      <td>NaN</td>\n",
       "      <td>NaN</td>\n",
       "      <td>NaN</td>\n",
       "      <td>NaN</td>\n",
       "      <td>NaN</td>\n",
       "      <td>NaN</td>\n",
       "    </tr>\n",
       "    <tr>\n",
       "      <th>Hour</th>\n",
       "      <td>185950.0</td>\n",
       "      <td>NaN</td>\n",
       "      <td>NaN</td>\n",
       "      <td>NaN</td>\n",
       "      <td>14.413305</td>\n",
       "      <td>5.423416</td>\n",
       "      <td>0.0</td>\n",
       "      <td>11.0</td>\n",
       "      <td>15.0</td>\n",
       "      <td>19.0</td>\n",
       "      <td>23.0</td>\n",
       "    </tr>\n",
       "  </tbody>\n",
       "</table>\n",
       "</div>"
      ],
      "text/plain": [
       "                     count  unique                                     top  \\\n",
       "Order ID          185950.0     NaN                                     NaN   \n",
       "Product             185950      19                    USB-C Charging Cable   \n",
       "Quantity Ordered  185950.0     NaN                                     NaN   \n",
       "Price Each        185950.0     NaN                                     NaN   \n",
       "Order Date          185950  142395                        12/15/2019 20:16   \n",
       "Purchase Address    185950  140787  193 Forest St, San Francisco, CA 94016   \n",
       "Month             185950.0     NaN                                     NaN   \n",
       "Sales             185950.0     NaN                                     NaN   \n",
       "City                185950       9                           San Francisco   \n",
       "Hour              185950.0     NaN                                     NaN   \n",
       "\n",
       "                   freq           mean          std       min        25%  \\\n",
       "Order ID            NaN  230417.569379  51512.73711  141234.0  185831.25   \n",
       "Product           21903            NaN          NaN       NaN        NaN   \n",
       "Quantity Ordered    NaN       1.124383     0.442793       1.0        1.0   \n",
       "Price Each          NaN     184.399735    332.73133      2.99      11.95   \n",
       "Order Date            8            NaN          NaN       NaN        NaN   \n",
       "Purchase Address      9            NaN          NaN       NaN        NaN   \n",
       "Month               NaN        7.05914     3.502996       1.0        4.0   \n",
       "Sales               NaN     185.490917   332.919771      2.99      11.95   \n",
       "City              44732            NaN          NaN       NaN        NaN   \n",
       "Hour                NaN      14.413305     5.423416       0.0       11.0   \n",
       "\n",
       "                       50%        75%       max  \n",
       "Order ID          230367.5  275035.75  319670.0  \n",
       "Product                NaN        NaN       NaN  \n",
       "Quantity Ordered       1.0        1.0       9.0  \n",
       "Price Each           14.95      150.0    1700.0  \n",
       "Order Date             NaN        NaN       NaN  \n",
       "Purchase Address       NaN        NaN       NaN  \n",
       "Month                  7.0       10.0      12.0  \n",
       "Sales                14.95      150.0    3400.0  \n",
       "City                   NaN        NaN       NaN  \n",
       "Hour                  15.0       19.0      23.0  "
      ]
     },
     "execution_count": 6,
     "metadata": {},
     "output_type": "execute_result"
    }
   ],
   "source": [
    "# descriptive statistics\n",
    "sales_data.describe(include='all').T"
   ]
  },
  {
   "cell_type": "code",
   "execution_count": 7,
   "metadata": {},
   "outputs": [
    {
     "name": "stdout",
     "output_type": "stream",
     "text": [
      "<class 'pandas.core.frame.DataFrame'>\n",
      "RangeIndex: 185950 entries, 0 to 185949\n",
      "Data columns (total 10 columns):\n",
      " #   Column            Non-Null Count   Dtype  \n",
      "---  ------            --------------   -----  \n",
      " 0   Order ID          185950 non-null  int64  \n",
      " 1   Product           185950 non-null  object \n",
      " 2   Quantity Ordered  185950 non-null  int64  \n",
      " 3   Price Each        185950 non-null  float64\n",
      " 4   Order Date        185950 non-null  object \n",
      " 5   Purchase Address  185950 non-null  object \n",
      " 6   Month             185950 non-null  int64  \n",
      " 7   Sales             185950 non-null  float64\n",
      " 8   City              185950 non-null  object \n",
      " 9   Hour              185950 non-null  int64  \n",
      "dtypes: float64(2), int64(4), object(4)\n",
      "memory usage: 14.2+ MB\n"
     ]
    }
   ],
   "source": [
    "# concise information\n",
    "sales_data.info()"
   ]
  },
  {
   "cell_type": "code",
   "execution_count": 8,
   "metadata": {},
   "outputs": [
    {
     "data": {
      "text/plain": [
       "Order ID                     int64\n",
       "Product                     object\n",
       "Quantity Ordered             int64\n",
       "Price Each                 float64\n",
       "Order Date          datetime64[ns]\n",
       "Purchase Address            object\n",
       "Month                        int64\n",
       "Sales                      float64\n",
       "City                        object\n",
       "Hour                         int64\n",
       "dtype: object"
      ]
     },
     "execution_count": 8,
     "metadata": {},
     "output_type": "execute_result"
    }
   ],
   "source": [
    "# let's extract day and day_name from Order Date column. We don't have to extract year as there are records for 2019 and 2020 only with 34\n",
    "# records for year 2020\n",
    "sales_data['Order Date'] = pd.to_datetime(sales_data['Order Date'])\n",
    "sales_data.dtypes"
   ]
  },
  {
   "cell_type": "code",
   "execution_count": 9,
   "metadata": {},
   "outputs": [],
   "source": [
    "sales_data['Day'] = sales_data['Order Date'].dt.day\n",
    "sales_data['Day_Name'] = sales_data['Order Date'].dt.day_name()\n",
    "sales_data['Month_Name'] = sales_data['Order Date'].dt.month_name()"
   ]
  },
  {
   "cell_type": "code",
   "execution_count": 10,
   "metadata": {},
   "outputs": [],
   "source": [
    "# extract zipcode from address\n",
    "sales_data['ZipCode'] = sales_data['Purchase Address'].str[-5:]"
   ]
  },
  {
   "cell_type": "code",
   "execution_count": 11,
   "metadata": {},
   "outputs": [
    {
     "data": {
      "text/plain": [
       "Order ID            0\n",
       "Product             0\n",
       "Quantity Ordered    0\n",
       "Price Each          0\n",
       "Order Date          0\n",
       "Purchase Address    0\n",
       "Month               0\n",
       "Sales               0\n",
       "City                0\n",
       "Hour                0\n",
       "Day                 0\n",
       "Day_Name            0\n",
       "Month_Name          0\n",
       "ZipCode             0\n",
       "dtype: int64"
      ]
     },
     "execution_count": 11,
     "metadata": {},
     "output_type": "execute_result"
    }
   ],
   "source": [
    "# let's check for null/ missing records\n",
    "sales_data.isnull().sum()"
   ]
  },
  {
   "cell_type": "code",
   "execution_count": 12,
   "metadata": {},
   "outputs": [
    {
     "data": {
      "text/plain": [
       "264"
      ]
     },
     "execution_count": 12,
     "metadata": {},
     "output_type": "execute_result"
    }
   ],
   "source": [
    "# duplicate records\n",
    "sales_data.duplicated().sum()"
   ]
  },
  {
   "cell_type": "code",
   "execution_count": 13,
   "metadata": {},
   "outputs": [],
   "source": [
    "# drop duplicates\n",
    "sales_data.drop_duplicates(inplace=True)"
   ]
  },
  {
   "cell_type": "code",
   "execution_count": 14,
   "metadata": {},
   "outputs": [
    {
     "data": {
      "text/plain": [
       "0"
      ]
     },
     "execution_count": 14,
     "metadata": {},
     "output_type": "execute_result"
    }
   ],
   "source": [
    "sales_data.duplicated().sum()"
   ]
  },
  {
   "cell_type": "code",
   "execution_count": 15,
   "metadata": {},
   "outputs": [
    {
     "data": {
      "text/plain": [
       "Index(['Order ID', 'Product', 'Quantity Ordered', 'Price Each', 'Order Date',\n",
       "       'Purchase Address', 'Month', 'Sales', 'City', 'Hour', 'Day', 'Day_Name',\n",
       "       'Month_Name', 'ZipCode'],\n",
       "      dtype='object')"
      ]
     },
     "execution_count": 15,
     "metadata": {},
     "output_type": "execute_result"
    }
   ],
   "source": [
    "# check columns\n",
    "sales_data.columns"
   ]
  },
  {
   "cell_type": "code",
   "execution_count": 16,
   "metadata": {},
   "outputs": [],
   "source": [
    "# create a copy of data with re-arranging columns for ease of understanding\n",
    "final_data = sales_data[['Order ID', 'Product', 'Quantity Ordered', 'Price Each', 'Sales', 'City', 'ZipCode', \n",
    "                         'Month_Name', 'Day', 'Day_Name', 'Hour']]"
   ]
  },
  {
   "cell_type": "code",
   "execution_count": 17,
   "metadata": {},
   "outputs": [
    {
     "data": {
      "text/html": [
       "<div>\n",
       "<style scoped>\n",
       "    .dataframe tbody tr th:only-of-type {\n",
       "        vertical-align: middle;\n",
       "    }\n",
       "\n",
       "    .dataframe tbody tr th {\n",
       "        vertical-align: top;\n",
       "    }\n",
       "\n",
       "    .dataframe thead th {\n",
       "        text-align: right;\n",
       "    }\n",
       "</style>\n",
       "<table border=\"1\" class=\"dataframe\">\n",
       "  <thead>\n",
       "    <tr style=\"text-align: right;\">\n",
       "      <th></th>\n",
       "      <th>Order ID</th>\n",
       "      <th>Product</th>\n",
       "      <th>Quantity Ordered</th>\n",
       "      <th>Price Each</th>\n",
       "      <th>Sales</th>\n",
       "      <th>City</th>\n",
       "      <th>ZipCode</th>\n",
       "      <th>Month_Name</th>\n",
       "      <th>Day</th>\n",
       "      <th>Day_Name</th>\n",
       "      <th>Hour</th>\n",
       "    </tr>\n",
       "  </thead>\n",
       "  <tbody>\n",
       "    <tr>\n",
       "      <th>0</th>\n",
       "      <td>295665</td>\n",
       "      <td>Macbook Pro Laptop</td>\n",
       "      <td>1</td>\n",
       "      <td>1700.00</td>\n",
       "      <td>1700.00</td>\n",
       "      <td>New York City</td>\n",
       "      <td>10001</td>\n",
       "      <td>December</td>\n",
       "      <td>30</td>\n",
       "      <td>Monday</td>\n",
       "      <td>0</td>\n",
       "    </tr>\n",
       "    <tr>\n",
       "      <th>1</th>\n",
       "      <td>295666</td>\n",
       "      <td>LG Washing Machine</td>\n",
       "      <td>1</td>\n",
       "      <td>600.00</td>\n",
       "      <td>600.00</td>\n",
       "      <td>New York City</td>\n",
       "      <td>10001</td>\n",
       "      <td>December</td>\n",
       "      <td>29</td>\n",
       "      <td>Sunday</td>\n",
       "      <td>7</td>\n",
       "    </tr>\n",
       "    <tr>\n",
       "      <th>2</th>\n",
       "      <td>295667</td>\n",
       "      <td>USB-C Charging Cable</td>\n",
       "      <td>1</td>\n",
       "      <td>11.95</td>\n",
       "      <td>11.95</td>\n",
       "      <td>New York City</td>\n",
       "      <td>10001</td>\n",
       "      <td>December</td>\n",
       "      <td>12</td>\n",
       "      <td>Thursday</td>\n",
       "      <td>18</td>\n",
       "    </tr>\n",
       "    <tr>\n",
       "      <th>3</th>\n",
       "      <td>295668</td>\n",
       "      <td>27in FHD Monitor</td>\n",
       "      <td>1</td>\n",
       "      <td>149.99</td>\n",
       "      <td>149.99</td>\n",
       "      <td>San Francisco</td>\n",
       "      <td>94016</td>\n",
       "      <td>December</td>\n",
       "      <td>22</td>\n",
       "      <td>Sunday</td>\n",
       "      <td>15</td>\n",
       "    </tr>\n",
       "    <tr>\n",
       "      <th>4</th>\n",
       "      <td>295669</td>\n",
       "      <td>USB-C Charging Cable</td>\n",
       "      <td>1</td>\n",
       "      <td>11.95</td>\n",
       "      <td>11.95</td>\n",
       "      <td>Atlanta</td>\n",
       "      <td>30301</td>\n",
       "      <td>December</td>\n",
       "      <td>18</td>\n",
       "      <td>Wednesday</td>\n",
       "      <td>12</td>\n",
       "    </tr>\n",
       "  </tbody>\n",
       "</table>\n",
       "</div>"
      ],
      "text/plain": [
       "   Order ID               Product  Quantity Ordered  Price Each    Sales  \\\n",
       "0    295665    Macbook Pro Laptop                 1     1700.00  1700.00   \n",
       "1    295666    LG Washing Machine                 1      600.00   600.00   \n",
       "2    295667  USB-C Charging Cable                 1       11.95    11.95   \n",
       "3    295668      27in FHD Monitor                 1      149.99   149.99   \n",
       "4    295669  USB-C Charging Cable                 1       11.95    11.95   \n",
       "\n",
       "             City ZipCode Month_Name  Day   Day_Name  Hour  \n",
       "0   New York City   10001   December   30     Monday     0  \n",
       "1   New York City   10001   December   29     Sunday     7  \n",
       "2   New York City   10001   December   12   Thursday    18  \n",
       "3   San Francisco   94016   December   22     Sunday    15  \n",
       "4         Atlanta   30301   December   18  Wednesday    12  "
      ]
     },
     "execution_count": 17,
     "metadata": {},
     "output_type": "execute_result"
    }
   ],
   "source": [
    "\n",
    "final_data.head()"
   ]
  },
  {
   "cell_type": "code",
   "execution_count": 18,
   "metadata": {},
   "outputs": [],
   "source": [
    "# save final data to a csv file\n",
    "# final_data.to_csv(\"archive/final_sales_data.csv\", index=False)"
   ]
  },
  {
   "cell_type": "code",
   "execution_count": 19,
   "metadata": {},
   "outputs": [
    {
     "data": {
      "text/html": [
       "<div>\n",
       "<style scoped>\n",
       "    .dataframe tbody tr th:only-of-type {\n",
       "        vertical-align: middle;\n",
       "    }\n",
       "\n",
       "    .dataframe tbody tr th {\n",
       "        vertical-align: top;\n",
       "    }\n",
       "\n",
       "    .dataframe thead th {\n",
       "        text-align: right;\n",
       "    }\n",
       "</style>\n",
       "<table border=\"1\" class=\"dataframe\">\n",
       "  <thead>\n",
       "    <tr style=\"text-align: right;\">\n",
       "      <th></th>\n",
       "      <th>Order ID</th>\n",
       "      <th>Product</th>\n",
       "      <th>Quantity Ordered</th>\n",
       "      <th>Price Each</th>\n",
       "      <th>Sales</th>\n",
       "      <th>City</th>\n",
       "      <th>ZipCode</th>\n",
       "      <th>Month_Name</th>\n",
       "      <th>Day</th>\n",
       "      <th>Day_Name</th>\n",
       "      <th>Hour</th>\n",
       "    </tr>\n",
       "  </thead>\n",
       "  <tbody>\n",
       "    <tr>\n",
       "      <th>0</th>\n",
       "      <td>295665</td>\n",
       "      <td>Macbook Pro Laptop</td>\n",
       "      <td>1</td>\n",
       "      <td>1700.00</td>\n",
       "      <td>1700.00</td>\n",
       "      <td>New York City</td>\n",
       "      <td>10001</td>\n",
       "      <td>December</td>\n",
       "      <td>30</td>\n",
       "      <td>Monday</td>\n",
       "      <td>0</td>\n",
       "    </tr>\n",
       "    <tr>\n",
       "      <th>1</th>\n",
       "      <td>295666</td>\n",
       "      <td>LG Washing Machine</td>\n",
       "      <td>1</td>\n",
       "      <td>600.00</td>\n",
       "      <td>600.00</td>\n",
       "      <td>New York City</td>\n",
       "      <td>10001</td>\n",
       "      <td>December</td>\n",
       "      <td>29</td>\n",
       "      <td>Sunday</td>\n",
       "      <td>7</td>\n",
       "    </tr>\n",
       "    <tr>\n",
       "      <th>2</th>\n",
       "      <td>295667</td>\n",
       "      <td>USB-C Charging Cable</td>\n",
       "      <td>1</td>\n",
       "      <td>11.95</td>\n",
       "      <td>11.95</td>\n",
       "      <td>New York City</td>\n",
       "      <td>10001</td>\n",
       "      <td>December</td>\n",
       "      <td>12</td>\n",
       "      <td>Thursday</td>\n",
       "      <td>18</td>\n",
       "    </tr>\n",
       "    <tr>\n",
       "      <th>3</th>\n",
       "      <td>295668</td>\n",
       "      <td>27in FHD Monitor</td>\n",
       "      <td>1</td>\n",
       "      <td>149.99</td>\n",
       "      <td>149.99</td>\n",
       "      <td>San Francisco</td>\n",
       "      <td>94016</td>\n",
       "      <td>December</td>\n",
       "      <td>22</td>\n",
       "      <td>Sunday</td>\n",
       "      <td>15</td>\n",
       "    </tr>\n",
       "    <tr>\n",
       "      <th>4</th>\n",
       "      <td>295669</td>\n",
       "      <td>USB-C Charging Cable</td>\n",
       "      <td>1</td>\n",
       "      <td>11.95</td>\n",
       "      <td>11.95</td>\n",
       "      <td>Atlanta</td>\n",
       "      <td>30301</td>\n",
       "      <td>December</td>\n",
       "      <td>18</td>\n",
       "      <td>Wednesday</td>\n",
       "      <td>12</td>\n",
       "    </tr>\n",
       "  </tbody>\n",
       "</table>\n",
       "</div>"
      ],
      "text/plain": [
       "   Order ID               Product  Quantity Ordered  Price Each    Sales  \\\n",
       "0    295665    Macbook Pro Laptop                 1     1700.00  1700.00   \n",
       "1    295666    LG Washing Machine                 1      600.00   600.00   \n",
       "2    295667  USB-C Charging Cable                 1       11.95    11.95   \n",
       "3    295668      27in FHD Monitor                 1      149.99   149.99   \n",
       "4    295669  USB-C Charging Cable                 1       11.95    11.95   \n",
       "\n",
       "             City  ZipCode Month_Name  Day   Day_Name  Hour  \n",
       "0   New York City    10001   December   30     Monday     0  \n",
       "1   New York City    10001   December   29     Sunday     7  \n",
       "2   New York City    10001   December   12   Thursday    18  \n",
       "3   San Francisco    94016   December   22     Sunday    15  \n",
       "4         Atlanta    30301   December   18  Wednesday    12  "
      ]
     },
     "execution_count": 19,
     "metadata": {},
     "output_type": "execute_result"
    }
   ],
   "source": [
    "# now let's import our final data for further analysis\n",
    "data = pd.read_csv(\"archive/final_sales_data.csv\")\n",
    "data.head()"
   ]
  },
  {
   "cell_type": "markdown",
   "metadata": {},
   "source": [
    "<h3>Univariate Analysis:</h3>"
   ]
  },
  {
   "cell_type": "code",
   "execution_count": 20,
   "metadata": {},
   "outputs": [
    {
     "data": {
      "text/plain": [
       "USB-C Charging Cable          21859\n",
       "Lightning Charging Cable      21610\n",
       "AAA Batteries (4-pack)        20612\n",
       "AA Batteries (4-pack)         20558\n",
       "Wired Headphones              18849\n",
       "Apple Airpods Headphones      15525\n",
       "Bose SoundSport Headphones    13298\n",
       "27in FHD Monitor               7498\n",
       "iPhone                         6840\n",
       "27in 4K Gaming Monitor         6225\n",
       "34in Ultrawide Monitor         6174\n",
       "Google Phone                   5522\n",
       "Flatscreen TV                  4794\n",
       "Macbook Pro Laptop             4721\n",
       "ThinkPad Laptop                4126\n",
       "20in Monitor                   4098\n",
       "Vareebadd Phone                2065\n",
       "LG Washing Machine              666\n",
       "LG Dryer                        646\n",
       "Name: Product, dtype: int64"
      ]
     },
     "execution_count": 20,
     "metadata": {},
     "output_type": "execute_result"
    }
   ],
   "source": [
    "# which product is ordered most?\n",
    "data['Product'].value_counts().sort_values(ascending=False)"
   ]
  },
  {
   "cell_type": "code",
   "execution_count": 21,
   "metadata": {},
   "outputs": [
    {
     "data": {
      "text/plain": [
       "1    168291\n",
       "2     13321\n",
       "3      2920\n",
       "4       806\n",
       "5       236\n",
       "6        80\n",
       "7        24\n",
       "8         5\n",
       "9         3\n",
       "Name: Quantity Ordered, dtype: int64"
      ]
     },
     "execution_count": 21,
     "metadata": {},
     "output_type": "execute_result"
    }
   ],
   "source": [
    "# what is the maximum count of quantity of product bought ?\n",
    "data['Quantity Ordered'].value_counts().sort_values(ascending=False)"
   ]
  },
  {
   "cell_type": "code",
   "execution_count": 33,
   "metadata": {},
   "outputs": [
    {
     "data": {
      "image/png": "[encoded data removed]",
      "text/plain": [
       "<Figure size 1500x500 with 2 Axes>"
      ]
     },
     "metadata": {},
     "output_type": "display_data"
    }
   ],
   "source": [
    "plt.figure(figsize=(15,5))\n",
    "\n",
    "# Most Ordered Product\n",
    "ax1 = plt.subplot2grid((1,2),(0,0))\n",
    "\n",
    "sns.countplot(data=data, y='Product', ax=ax1)\n",
    "for i in ax1.containers:\n",
    "    plt.bar_label(i)\n",
    "plt.title(\"Most Ordered Product\")\n",
    "\n",
    "# Preferred Preferred Purchase Quantity\n",
    "ax2 = plt.subplot2grid((1,2),(0,1))\n",
    "\n",
    "sns.countplot(data=data, x='Quantity Ordered', ax=ax2)\n",
    "for i in ax2.containers:\n",
    "    plt.bar_label(i)\n",
    "plt.title(\"Preferred Purchase Quantity\")\n",
    "\n",
    "plt.tight_layout()\n",
    "plt.show()"
   ]
  },
  {
   "cell_type": "markdown",
   "metadata": {},
   "source": [
    "From above countplots we observed that:\n",
    " - Top 3 most ordered products - USB-C Charging Cable (21859), Lightning Charging Cable (21610) and AAA Batteries (4-pack) (20612).\n",
    " - Bottom 3 least ordered products - LG Dryer (646), LG Washing Machine (666) and Vareebadd Phone (2065).\n",
    " - Customers prefer purchasing 1 quantity of items from the products."
   ]
  },
  {
   "cell_type": "code",
   "execution_count": 22,
   "metadata": {},
   "outputs": [
    {
     "data": {
      "text/plain": [
       " San Francisco    44662\n",
       " Los Angeles      29564\n",
       " New York City    24847\n",
       " Boston           19901\n",
       " Atlanta          14863\n",
       " Dallas           14797\n",
       " Seattle          14713\n",
       " Portland         12449\n",
       " Austin            9890\n",
       "Name: City, dtype: int64"
      ]
     },
     "execution_count": 22,
     "metadata": {},
     "output_type": "execute_result"
    }
   ],
   "source": [
    "# which city has shown maximum number of orders?\n",
    "data['City'].value_counts().sort_values(ascending=False)"
   ]
  },
  {
   "cell_type": "code",
   "execution_count": 23,
   "metadata": {},
   "outputs": [
    {
     "data": {
      "text/plain": [
       "December     24944\n",
       "October      20249\n",
       "April        18257\n",
       "November     17544\n",
       "May          16552\n",
       "March        15128\n",
       "July         14275\n",
       "June         13535\n",
       "February     11957\n",
       "August       11943\n",
       "September    11603\n",
       "January       9699\n",
       "Name: Month_Name, dtype: int64"
      ]
     },
     "execution_count": 23,
     "metadata": {},
     "output_type": "execute_result"
    }
   ],
   "source": [
    "# which month has recorded maximum number of orders?\n",
    "data['Month_Name'].value_counts().sort_values(ascending=False)"
   ]
  },
  {
   "cell_type": "code",
   "execution_count": 24,
   "metadata": {},
   "outputs": [
    {
     "data": {
      "text/plain": [
       "13    6291\n",
       "10    6241\n",
       "2     6187\n",
       "19    6184\n",
       "17    6165\n",
       "26    6150\n",
       "20    6144\n",
       "24    6141\n",
       "18    6132\n",
       "14    6126\n",
       "16    6109\n",
       "27    6108\n",
       "15    6106\n",
       "22    6101\n",
       "9     6100\n",
       "28    6093\n",
       "12    6086\n",
       "21    6085\n",
       "6     6081\n",
       "8     6065\n",
       "11    6060\n",
       "4     6058\n",
       "25    6054\n",
       "1     6042\n",
       "23    6041\n",
       "7     6025\n",
       "5     6015\n",
       "3     5815\n",
       "29    5709\n",
       "30    5623\n",
       "31    3549\n",
       "Name: Day, dtype: int64"
      ]
     },
     "execution_count": 24,
     "metadata": {},
     "output_type": "execute_result"
    }
   ],
   "source": [
    "# which date of month has recorded maximum number of orders across all data?\n",
    "data['Day'].value_counts().sort_values(ascending=False)"
   ]
  },
  {
   "cell_type": "code",
   "execution_count": 25,
   "metadata": {},
   "outputs": [
    {
     "data": {
      "text/plain": [
       "Tuesday      27137\n",
       "Sunday       26518\n",
       "Monday       26508\n",
       "Saturday     26453\n",
       "Wednesday    26438\n",
       "Thursday     26418\n",
       "Friday       26214\n",
       "Name: Day_Name, dtype: int64"
      ]
     },
     "execution_count": 25,
     "metadata": {},
     "output_type": "execute_result"
    }
   ],
   "source": [
    "# which week day has recorded maximum number of orders?\n",
    "data['Day_Name'].value_counts().sort_values(ascending=False)"
   ]
  },
  {
   "cell_type": "code",
   "execution_count": 26,
   "metadata": {},
   "outputs": [
    {
     "data": {
      "text/plain": [
       "19    12886\n",
       "12    12573\n",
       "11    12392\n",
       "18    12263\n",
       "20    12218\n",
       "13    12115\n",
       "14    10965\n",
       "10    10929\n",
       "21    10905\n",
       "17    10884\n",
       "16    10359\n",
       "15    10159\n",
       "22     8808\n",
       "9      8740\n",
       "23     6262\n",
       "8      6252\n",
       "7      4002\n",
       "0      3902\n",
       "6      2481\n",
       "1      2347\n",
       "5      1320\n",
       "2      1242\n",
       "4       852\n",
       "3       830\n",
       "Name: Hour, dtype: int64"
      ]
     },
     "execution_count": 26,
     "metadata": {},
     "output_type": "execute_result"
    }
   ],
   "source": [
    "# What time of the day has recorded maximum number of orders?\n",
    "data['Hour'].value_counts().sort_values(ascending=False)"
   ]
  },
  {
   "cell_type": "code",
   "execution_count": null,
   "metadata": {},
   "outputs": [],
   "source": []
  }
 ],
 "metadata": {
  "kernelspec": {
   "display_name": "Deep_Learning",
   "language": "python",
   "name": "python3"
  },
  "language_info": {
   "codemirror_mode": {
    "name": "ipython",
    "version": 3
   },
   "file_extension": ".py",
   "mimetype": "text/x-python",
   "name": "python",
   "nbconvert_exporter": "python",
   "pygments_lexer": "ipython3",
   "version": "3.9.18"
  }
 },
 "nbformat": 4,
 "nbformat_minor": 2
}
