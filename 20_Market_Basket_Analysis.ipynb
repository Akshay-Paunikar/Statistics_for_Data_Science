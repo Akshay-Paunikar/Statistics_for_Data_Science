{
 "cells": [
  {
   "cell_type": "markdown",
   "metadata": {},
   "source": [
    "<h2>Market Basket Analysis</h2>\n",
    "\n",
    "Market Basket Analysis is a data-driven technique used to uncover patterns and relationships within large transactional datasets, particularly in retail and e-commerce. It helps businesses understand which products or items are often purchased together, providing insights for optimizing product placement, marketing strategies, and promotions.\n",
    "\n",
    "Market Basket Analysis is a valuable tool for businesses seeking to optimize their product offerings, increase cross-selling opportunities, and improve marketing strategies. It can lead to higher revenue, enhanced customer satisfaction, and overall business success."
   ]
  },
  {
   "cell_type": "code",
   "execution_count": 1,
   "metadata": {},
   "outputs": [],
   "source": [
    "# import required libraries\n",
    "import numpy as np\n",
    "import pandas as pd\n",
    "import matplotlib.pyplot as plt\n",
    "%matplotlib inline\n",
    "import seaborn as sns"
   ]
  },
  {
   "cell_type": "code",
   "execution_count": 2,
   "metadata": {},
   "outputs": [],
   "source": [
    "# read the dataset\n",
    "data = pd.read_csv(\"market_basket_dataset.csv\")"
   ]
  },
  {
   "cell_type": "code",
   "execution_count": 3,
   "metadata": {},
   "outputs": [
    {
     "data": {
      "text/plain": [
       "(500, 5)"
      ]
     },
     "execution_count": 3,
     "metadata": {},
     "output_type": "execute_result"
    }
   ],
   "source": [
    "# check the shape of data\n",
    "data.shape"
   ]
  },
  {
   "cell_type": "code",
   "execution_count": 4,
   "metadata": {},
   "outputs": [
    {
     "data": {
      "text/html": [
       "<div>\n",
       "<style scoped>\n",
       "    .dataframe tbody tr th:only-of-type {\n",
       "        vertical-align: middle;\n",
       "    }\n",
       "\n",
       "    .dataframe tbody tr th {\n",
       "        vertical-align: top;\n",
       "    }\n",
       "\n",
       "    .dataframe thead th {\n",
       "        text-align: right;\n",
       "    }\n",
       "</style>\n",
       "<table border=\"1\" class=\"dataframe\">\n",
       "  <thead>\n",
       "    <tr style=\"text-align: right;\">\n",
       "      <th></th>\n",
       "      <th>BillNo</th>\n",
       "      <th>Itemname</th>\n",
       "      <th>Quantity</th>\n",
       "      <th>Price</th>\n",
       "      <th>CustomerID</th>\n",
       "    </tr>\n",
       "  </thead>\n",
       "  <tbody>\n",
       "    <tr>\n",
       "      <th>0</th>\n",
       "      <td>1000</td>\n",
       "      <td>Apples</td>\n",
       "      <td>5</td>\n",
       "      <td>8.30</td>\n",
       "      <td>52299</td>\n",
       "    </tr>\n",
       "    <tr>\n",
       "      <th>1</th>\n",
       "      <td>1000</td>\n",
       "      <td>Butter</td>\n",
       "      <td>4</td>\n",
       "      <td>6.06</td>\n",
       "      <td>11752</td>\n",
       "    </tr>\n",
       "    <tr>\n",
       "      <th>2</th>\n",
       "      <td>1000</td>\n",
       "      <td>Eggs</td>\n",
       "      <td>4</td>\n",
       "      <td>2.66</td>\n",
       "      <td>16415</td>\n",
       "    </tr>\n",
       "    <tr>\n",
       "      <th>3</th>\n",
       "      <td>1000</td>\n",
       "      <td>Potatoes</td>\n",
       "      <td>4</td>\n",
       "      <td>8.10</td>\n",
       "      <td>22889</td>\n",
       "    </tr>\n",
       "    <tr>\n",
       "      <th>4</th>\n",
       "      <td>1004</td>\n",
       "      <td>Oranges</td>\n",
       "      <td>2</td>\n",
       "      <td>7.26</td>\n",
       "      <td>52255</td>\n",
       "    </tr>\n",
       "  </tbody>\n",
       "</table>\n",
       "</div>"
      ],
      "text/plain": [
       "   BillNo  Itemname  Quantity  Price  CustomerID\n",
       "0    1000    Apples         5   8.30       52299\n",
       "1    1000    Butter         4   6.06       11752\n",
       "2    1000      Eggs         4   2.66       16415\n",
       "3    1000  Potatoes         4   8.10       22889\n",
       "4    1004   Oranges         2   7.26       52255"
      ]
     },
     "execution_count": 4,
     "metadata": {},
     "output_type": "execute_result"
    }
   ],
   "source": [
    "# let's look at the first five records\n",
    "data.head()"
   ]
  },
  {
   "cell_type": "code",
   "execution_count": 6,
   "metadata": {},
   "outputs": [
    {
     "data": {
      "text/plain": [
       "BillNo          int64\n",
       "Itemname       object\n",
       "Quantity        int64\n",
       "Price         float64\n",
       "CustomerID      int64\n",
       "dtype: object"
      ]
     },
     "execution_count": 6,
     "metadata": {},
     "output_type": "execute_result"
    }
   ],
   "source": [
    "# datatypes present\n",
    "data.dtypes"
   ]
  },
  {
   "cell_type": "code",
   "execution_count": 7,
   "metadata": {},
   "outputs": [
    {
     "data": {
      "text/html": [
       "<div>\n",
       "<style scoped>\n",
       "    .dataframe tbody tr th:only-of-type {\n",
       "        vertical-align: middle;\n",
       "    }\n",
       "\n",
       "    .dataframe tbody tr th {\n",
       "        vertical-align: top;\n",
       "    }\n",
       "\n",
       "    .dataframe thead th {\n",
       "        text-align: right;\n",
       "    }\n",
       "</style>\n",
       "<table border=\"1\" class=\"dataframe\">\n",
       "  <thead>\n",
       "    <tr style=\"text-align: right;\">\n",
       "      <th></th>\n",
       "      <th>count</th>\n",
       "      <th>unique</th>\n",
       "      <th>top</th>\n",
       "      <th>freq</th>\n",
       "      <th>mean</th>\n",
       "      <th>std</th>\n",
       "      <th>min</th>\n",
       "      <th>25%</th>\n",
       "      <th>50%</th>\n",
       "      <th>75%</th>\n",
       "      <th>max</th>\n",
       "    </tr>\n",
       "  </thead>\n",
       "  <tbody>\n",
       "    <tr>\n",
       "      <th>BillNo</th>\n",
       "      <td>500.0</td>\n",
       "      <td>NaN</td>\n",
       "      <td>NaN</td>\n",
       "      <td>NaN</td>\n",
       "      <td>1247.442</td>\n",
       "      <td>144.483097</td>\n",
       "      <td>1000.0</td>\n",
       "      <td>1120.0</td>\n",
       "      <td>1246.5</td>\n",
       "      <td>1370.0</td>\n",
       "      <td>1497.0</td>\n",
       "    </tr>\n",
       "    <tr>\n",
       "      <th>Itemname</th>\n",
       "      <td>500</td>\n",
       "      <td>19</td>\n",
       "      <td>Bananas</td>\n",
       "      <td>37</td>\n",
       "      <td>NaN</td>\n",
       "      <td>NaN</td>\n",
       "      <td>NaN</td>\n",
       "      <td>NaN</td>\n",
       "      <td>NaN</td>\n",
       "      <td>NaN</td>\n",
       "      <td>NaN</td>\n",
       "    </tr>\n",
       "    <tr>\n",
       "      <th>Quantity</th>\n",
       "      <td>500.0</td>\n",
       "      <td>NaN</td>\n",
       "      <td>NaN</td>\n",
       "      <td>NaN</td>\n",
       "      <td>2.978</td>\n",
       "      <td>1.426038</td>\n",
       "      <td>1.0</td>\n",
       "      <td>2.0</td>\n",
       "      <td>3.0</td>\n",
       "      <td>4.0</td>\n",
       "      <td>5.0</td>\n",
       "    </tr>\n",
       "    <tr>\n",
       "      <th>Price</th>\n",
       "      <td>500.0</td>\n",
       "      <td>NaN</td>\n",
       "      <td>NaN</td>\n",
       "      <td>NaN</td>\n",
       "      <td>5.61766</td>\n",
       "      <td>2.572919</td>\n",
       "      <td>1.04</td>\n",
       "      <td>3.57</td>\n",
       "      <td>5.43</td>\n",
       "      <td>7.92</td>\n",
       "      <td>9.94</td>\n",
       "    </tr>\n",
       "    <tr>\n",
       "      <th>CustomerID</th>\n",
       "      <td>500.0</td>\n",
       "      <td>NaN</td>\n",
       "      <td>NaN</td>\n",
       "      <td>NaN</td>\n",
       "      <td>54229.8</td>\n",
       "      <td>25672.122585</td>\n",
       "      <td>10504.0</td>\n",
       "      <td>32823.5</td>\n",
       "      <td>53506.5</td>\n",
       "      <td>76644.25</td>\n",
       "      <td>99162.0</td>\n",
       "    </tr>\n",
       "  </tbody>\n",
       "</table>\n",
       "</div>"
      ],
      "text/plain": [
       "            count unique      top freq      mean           std      min  \\\n",
       "BillNo      500.0    NaN      NaN  NaN  1247.442    144.483097   1000.0   \n",
       "Itemname      500     19  Bananas   37       NaN           NaN      NaN   \n",
       "Quantity    500.0    NaN      NaN  NaN     2.978      1.426038      1.0   \n",
       "Price       500.0    NaN      NaN  NaN   5.61766      2.572919     1.04   \n",
       "CustomerID  500.0    NaN      NaN  NaN   54229.8  25672.122585  10504.0   \n",
       "\n",
       "                25%      50%       75%      max  \n",
       "BillNo       1120.0   1246.5    1370.0   1497.0  \n",
       "Itemname        NaN      NaN       NaN      NaN  \n",
       "Quantity        2.0      3.0       4.0      5.0  \n",
       "Price          3.57     5.43      7.92     9.94  \n",
       "CustomerID  32823.5  53506.5  76644.25  99162.0  "
      ]
     },
     "execution_count": 7,
     "metadata": {},
     "output_type": "execute_result"
    }
   ],
   "source": [
    "# descriptive statistics\n",
    "data.describe(include='all').T"
   ]
  },
  {
   "cell_type": "code",
   "execution_count": 8,
   "metadata": {},
   "outputs": [
    {
     "name": "stdout",
     "output_type": "stream",
     "text": [
      "<class 'pandas.core.frame.DataFrame'>\n",
      "RangeIndex: 500 entries, 0 to 499\n",
      "Data columns (total 5 columns):\n",
      " #   Column      Non-Null Count  Dtype  \n",
      "---  ------      --------------  -----  \n",
      " 0   BillNo      500 non-null    int64  \n",
      " 1   Itemname    500 non-null    object \n",
      " 2   Quantity    500 non-null    int64  \n",
      " 3   Price       500 non-null    float64\n",
      " 4   CustomerID  500 non-null    int64  \n",
      "dtypes: float64(1), int64(3), object(1)\n",
      "memory usage: 19.7+ KB\n"
     ]
    }
   ],
   "source": [
    "# concise information\n",
    "data.info()"
   ]
  },
  {
   "cell_type": "code",
   "execution_count": 9,
   "metadata": {},
   "outputs": [
    {
     "data": {
      "text/plain": [
       "0"
      ]
     },
     "execution_count": 9,
     "metadata": {},
     "output_type": "execute_result"
    }
   ],
   "source": [
    "# check for duplicate records\n",
    "data.duplicated().sum()"
   ]
  },
  {
   "cell_type": "code",
   "execution_count": 10,
   "metadata": {},
   "outputs": [
    {
     "data": {
      "text/plain": [
       "BillNo        0\n",
       "Itemname      0\n",
       "Quantity      0\n",
       "Price         0\n",
       "CustomerID    0\n",
       "dtype: int64"
      ]
     },
     "execution_count": 10,
     "metadata": {},
     "output_type": "execute_result"
    }
   ],
   "source": [
    "# check for null/missing values\n",
    "data.isnull().sum()"
   ]
  },
  {
   "cell_type": "code",
   "execution_count": 29,
   "metadata": {},
   "outputs": [
    {
     "data": {
      "image/png": "[encoded data removed]",
      "text/plain": [
       "<Figure size 1200x400 with 1 Axes>"
      ]
     },
     "metadata": {},
     "output_type": "display_data"
    }
   ],
   "source": [
    "# most sold item\n",
    "plt.figure(figsize=(12,4))\n",
    "ax = plt.subplot2grid((1,1),(0,0))\n",
    "\n",
    "sns.barplot(x='Itemname', y='Quantity', data=data, ci=None, estimator=np.sum, ax=ax)\n",
    "for i in ax.containers:\n",
    "    plt.bar_label(i)\n",
    "plt.title(\"Most sold item\")\n",
    "plt.xticks(rotation=30)\n",
    "plt.show()"
   ]
  },
  {
   "cell_type": "markdown",
   "metadata": {},
   "source": [
    "from above barplot we can say that:\n",
    " - Bananas (119 units) are sold most followed by Cheese (99 units) and Coffee (88 units).\n",
    " - Chicken (53 units) is sold least followed by Juice (55 units) and Pasta (67 units)."
   ]
  },
  {
   "cell_type": "code",
   "execution_count": 38,
   "metadata": {},
   "outputs": [
    {
     "data": {
      "text/html": [
       "<div>\n",
       "<style scoped>\n",
       "    .dataframe tbody tr th:only-of-type {\n",
       "        vertical-align: middle;\n",
       "    }\n",
       "\n",
       "    .dataframe tbody tr th {\n",
       "        vertical-align: top;\n",
       "    }\n",
       "\n",
       "    .dataframe thead th {\n",
       "        text-align: right;\n",
       "    }\n",
       "</style>\n",
       "<table border=\"1\" class=\"dataframe\">\n",
       "  <thead>\n",
       "    <tr style=\"text-align: right;\">\n",
       "      <th></th>\n",
       "      <th>CustomerID</th>\n",
       "      <th>Quantity</th>\n",
       "      <th>Price</th>\n",
       "    </tr>\n",
       "  </thead>\n",
       "  <tbody>\n",
       "    <tr>\n",
       "      <th>0</th>\n",
       "      <td>46419</td>\n",
       "      <td>3.5</td>\n",
       "      <td>11.49</td>\n",
       "    </tr>\n",
       "    <tr>\n",
       "      <th>1</th>\n",
       "      <td>78411</td>\n",
       "      <td>4.0</td>\n",
       "      <td>9.94</td>\n",
       "    </tr>\n",
       "    <tr>\n",
       "      <th>2</th>\n",
       "      <td>33260</td>\n",
       "      <td>2.0</td>\n",
       "      <td>9.94</td>\n",
       "    </tr>\n",
       "    <tr>\n",
       "      <th>3</th>\n",
       "      <td>16469</td>\n",
       "      <td>5.0</td>\n",
       "      <td>9.93</td>\n",
       "    </tr>\n",
       "    <tr>\n",
       "      <th>4</th>\n",
       "      <td>42722</td>\n",
       "      <td>4.0</td>\n",
       "      <td>9.88</td>\n",
       "    </tr>\n",
       "    <tr>\n",
       "      <th>5</th>\n",
       "      <td>76583</td>\n",
       "      <td>1.0</td>\n",
       "      <td>9.87</td>\n",
       "    </tr>\n",
       "    <tr>\n",
       "      <th>6</th>\n",
       "      <td>83029</td>\n",
       "      <td>1.0</td>\n",
       "      <td>9.86</td>\n",
       "    </tr>\n",
       "    <tr>\n",
       "      <th>7</th>\n",
       "      <td>42445</td>\n",
       "      <td>3.0</td>\n",
       "      <td>9.84</td>\n",
       "    </tr>\n",
       "    <tr>\n",
       "      <th>8</th>\n",
       "      <td>18108</td>\n",
       "      <td>4.0</td>\n",
       "      <td>9.84</td>\n",
       "    </tr>\n",
       "    <tr>\n",
       "      <th>9</th>\n",
       "      <td>65941</td>\n",
       "      <td>5.0</td>\n",
       "      <td>9.83</td>\n",
       "    </tr>\n",
       "  </tbody>\n",
       "</table>\n",
       "</div>"
      ],
      "text/plain": [
       "   CustomerID  Quantity  Price\n",
       "0       46419       3.5  11.49\n",
       "1       78411       4.0   9.94\n",
       "2       33260       2.0   9.94\n",
       "3       16469       5.0   9.93\n",
       "4       42722       4.0   9.88\n",
       "5       76583       1.0   9.87\n",
       "6       83029       1.0   9.86\n",
       "7       42445       3.0   9.84\n",
       "8       18108       4.0   9.84\n",
       "9       65941       5.0   9.83"
      ]
     },
     "execution_count": 38,
     "metadata": {},
     "output_type": "execute_result"
    }
   ],
   "source": [
    "# average quantity and total purchase by Customer\n",
    "data.groupby('CustomerID').agg({'Quantity': 'mean', 'Price':'sum'}).sort_values(by='Price', ascending=False).head(10).reset_index()"
   ]
  },
  {
   "cell_type": "markdown",
   "metadata": {},
   "source": [
    "Here, we are exploring customer behaviour, comparing average quantity and total spending, and analyzing exact numerical values in the table for top 10 customer."
   ]
  },
  {
   "cell_type": "markdown",
   "metadata": {},
   "source": [
    "Now, let’s use the Apriori algorithm to create association rules. The Apriori algorithm is used to discover frequent item sets in large transactional datasets. It aims to identify items that are frequently purchased together in transactional data. It helps uncover patterns in customer behaviour, allowing businesses to make informed decisions about product placement, promotions, and marketing."
   ]
  },
  {
   "cell_type": "code",
   "execution_count": 50,
   "metadata": {},
   "outputs": [
    {
     "name": "stderr",
     "output_type": "stream",
     "text": [
      "d:\\anaconda\\envs\\Deep_Learning\\lib\\site-packages\\mlxtend\\frequent_patterns\\fpcommon.py:109: DeprecationWarning: DataFrames with non-bool types result in worse computationalperformance and their support might be discontinued in the future.Please use a DataFrame with bool type\n",
      "  warnings.warn(\n"
     ]
    },
    {
     "data": {
      "text/html": [
       "<div>\n",
       "<style scoped>\n",
       "    .dataframe tbody tr th:only-of-type {\n",
       "        vertical-align: middle;\n",
       "    }\n",
       "\n",
       "    .dataframe tbody tr th {\n",
       "        vertical-align: top;\n",
       "    }\n",
       "\n",
       "    .dataframe thead th {\n",
       "        text-align: right;\n",
       "    }\n",
       "</style>\n",
       "<table border=\"1\" class=\"dataframe\">\n",
       "  <thead>\n",
       "    <tr style=\"text-align: right;\">\n",
       "      <th></th>\n",
       "      <th>antecedents</th>\n",
       "      <th>consequents</th>\n",
       "      <th>support</th>\n",
       "      <th>confidence</th>\n",
       "      <th>lift</th>\n",
       "    </tr>\n",
       "  </thead>\n",
       "  <tbody>\n",
       "    <tr>\n",
       "      <th>0</th>\n",
       "      <td>(Bread)</td>\n",
       "      <td>(Apples)</td>\n",
       "      <td>0.045752</td>\n",
       "      <td>0.304348</td>\n",
       "      <td>1.862609</td>\n",
       "    </tr>\n",
       "    <tr>\n",
       "      <th>1</th>\n",
       "      <td>(Apples)</td>\n",
       "      <td>(Bread)</td>\n",
       "      <td>0.045752</td>\n",
       "      <td>0.280000</td>\n",
       "      <td>1.862609</td>\n",
       "    </tr>\n",
       "    <tr>\n",
       "      <th>2</th>\n",
       "      <td>(Butter)</td>\n",
       "      <td>(Apples)</td>\n",
       "      <td>0.026144</td>\n",
       "      <td>0.160000</td>\n",
       "      <td>0.979200</td>\n",
       "    </tr>\n",
       "    <tr>\n",
       "      <th>3</th>\n",
       "      <td>(Apples)</td>\n",
       "      <td>(Butter)</td>\n",
       "      <td>0.026144</td>\n",
       "      <td>0.160000</td>\n",
       "      <td>0.979200</td>\n",
       "    </tr>\n",
       "    <tr>\n",
       "      <th>4</th>\n",
       "      <td>(Cereal)</td>\n",
       "      <td>(Apples)</td>\n",
       "      <td>0.019608</td>\n",
       "      <td>0.096774</td>\n",
       "      <td>0.592258</td>\n",
       "    </tr>\n",
       "    <tr>\n",
       "      <th>...</th>\n",
       "      <td>...</td>\n",
       "      <td>...</td>\n",
       "      <td>...</td>\n",
       "      <td>...</td>\n",
       "      <td>...</td>\n",
       "    </tr>\n",
       "    <tr>\n",
       "      <th>18487</th>\n",
       "      <td>(Coffee)</td>\n",
       "      <td>(Cereal, Butter, Bread, Oranges, Chicken, Juice)</td>\n",
       "      <td>0.013072</td>\n",
       "      <td>0.060606</td>\n",
       "      <td>4.636364</td>\n",
       "    </tr>\n",
       "    <tr>\n",
       "      <th>18488</th>\n",
       "      <td>(Butter)</td>\n",
       "      <td>(Cereal, Coffee, Bread, Oranges, Chicken, Juice)</td>\n",
       "      <td>0.013072</td>\n",
       "      <td>0.080000</td>\n",
       "      <td>6.120000</td>\n",
       "    </tr>\n",
       "    <tr>\n",
       "      <th>18489</th>\n",
       "      <td>(Oranges)</td>\n",
       "      <td>(Cereal, Coffee, Butter, Bread, Chicken, Juice)</td>\n",
       "      <td>0.013072</td>\n",
       "      <td>0.068966</td>\n",
       "      <td>5.275862</td>\n",
       "    </tr>\n",
       "    <tr>\n",
       "      <th>18490</th>\n",
       "      <td>(Chicken)</td>\n",
       "      <td>(Cereal, Coffee, Butter, Bread, Oranges, Juice)</td>\n",
       "      <td>0.013072</td>\n",
       "      <td>0.100000</td>\n",
       "      <td>7.650000</td>\n",
       "    </tr>\n",
       "    <tr>\n",
       "      <th>18491</th>\n",
       "      <td>(Bread)</td>\n",
       "      <td>(Cereal, Coffee, Butter, Oranges, Chicken, Juice)</td>\n",
       "      <td>0.013072</td>\n",
       "      <td>0.086957</td>\n",
       "      <td>6.652174</td>\n",
       "    </tr>\n",
       "  </tbody>\n",
       "</table>\n",
       "<p>18492 rows × 5 columns</p>\n",
       "</div>"
      ],
      "text/plain": [
       "      antecedents                                        consequents  \\\n",
       "0         (Bread)                                           (Apples)   \n",
       "1        (Apples)                                            (Bread)   \n",
       "2        (Butter)                                           (Apples)   \n",
       "3        (Apples)                                           (Butter)   \n",
       "4        (Cereal)                                           (Apples)   \n",
       "...           ...                                                ...   \n",
       "18487    (Coffee)   (Cereal, Butter, Bread, Oranges, Chicken, Juice)   \n",
       "18488    (Butter)   (Cereal, Coffee, Bread, Oranges, Chicken, Juice)   \n",
       "18489   (Oranges)    (Cereal, Coffee, Butter, Bread, Chicken, Juice)   \n",
       "18490   (Chicken)    (Cereal, Coffee, Butter, Bread, Oranges, Juice)   \n",
       "18491     (Bread)  (Cereal, Coffee, Butter, Oranges, Chicken, Juice)   \n",
       "\n",
       "        support  confidence      lift  \n",
       "0      0.045752    0.304348  1.862609  \n",
       "1      0.045752    0.280000  1.862609  \n",
       "2      0.026144    0.160000  0.979200  \n",
       "3      0.026144    0.160000  0.979200  \n",
       "4      0.019608    0.096774  0.592258  \n",
       "...         ...         ...       ...  \n",
       "18487  0.013072    0.060606  4.636364  \n",
       "18488  0.013072    0.080000  6.120000  \n",
       "18489  0.013072    0.068966  5.275862  \n",
       "18490  0.013072    0.100000  7.650000  \n",
       "18491  0.013072    0.086957  6.652174  \n",
       "\n",
       "[18492 rows x 5 columns]"
      ]
     },
     "execution_count": 50,
     "metadata": {},
     "output_type": "execute_result"
    }
   ],
   "source": [
    "from mlxtend.frequent_patterns import apriori, association_rules\n",
    "\n",
    "# Group items by BillNo and create a list of items for each bill\n",
    "basket = data.groupby('BillNo')['Itemname'].apply(list).reset_index()\n",
    "\n",
    "# Encode items as binary variables using one-hot encoding\n",
    "basket_encoded = basket['Itemname'].str.join('|').str.get_dummies('|')\n",
    "\n",
    "# Find frequent itemsets using Apriori algorithm with lower support\n",
    "frequent_itemsets = apriori(basket_encoded, min_support=0.01, use_colnames=True)\n",
    "\n",
    "# Generate association rules with lower lift threshold\n",
    "rules = association_rules(frequent_itemsets, metric='lift', min_threshold=0.5)\n",
    "\n",
    "# Display association rules\n",
    "rules[['antecedents', 'consequents', 'support', 'confidence', 'lift']]"
   ]
  },
  {
   "cell_type": "markdown",
   "metadata": {},
   "source": [
    "The above output shows association rules between different items (antecedents) and the items that tend to be purchased together with them (consequents). Let’s interpret the output step by step:\n",
    "\n",
    " - <b>Antecedents:</b> These are the items that are considered as the starting point or “if” part of the association rule. For example, Bread, Butter, Cereal, Cheese, and Chicken are the antecedents in this analysis.\n",
    "\n",
    " - <b>Consequents:</b> These are the items that tend to be purchased along with the antecedents or the “then” part of the association rule.\n",
    "\n",
    " - <b>Support:</b> Support measures how frequently a particular combination of items (both antecedents and consequents) appears in the dataset. It is essentially the proportion of transactions in which the items are bought together. For example, the first rule indicates that Bread and Apples are bought together in approximately 4.58% of all transactions.\n",
    "\n",
    " - <b>Confidence:</b> Confidence quantifies the likelihood of the consequent item being purchased when the antecedent item is already in the basket. In other words, it shows the probability of buying the consequent item when the antecedent item is bought. For example, the first rule tells us that there is a 30.43% chance of buying Apples when Bread is already in the basket.\n",
    "\n",
    " - <b>Lift:</b> Lift measures the degree of association between the antecedent and consequent items, while considering the baseline purchase probability of the consequent item. A lift value greater than 1 indicates a positive association, meaning that the items are more likely to be bought together than independently. A value less than 1 indicates a negative association. For example, the first rule has a lift of approximately 1.86, suggesting a positive association between Bread and Apples."
   ]
  },
  {
   "cell_type": "markdown",
   "metadata": {},
   "source": [
    "<h3>Summary:</h3>\n",
    "\n",
    "Market Basket Analysis is a valuable tool for businesses seeking to optimize their product offerings, increase cross-selling opportunities, and improve marketing strategies. It can lead to higher revenue, enhanced customer satisfaction, and overall business success."
   ]
  }
 ],
 "metadata": {
  "kernelspec": {
   "display_name": "Deep_Learning",
   "language": "python",
   "name": "python3"
  },
  "language_info": {
   "codemirror_mode": {
    "name": "ipython",
    "version": 3
   },
   "file_extension": ".py",
   "mimetype": "text/x-python",
   "name": "python",
   "nbconvert_exporter": "python",
   "pygments_lexer": "ipython3",
   "version": "3.9.18"
  }
 },
 "nbformat": 4,
 "nbformat_minor": 2
}
