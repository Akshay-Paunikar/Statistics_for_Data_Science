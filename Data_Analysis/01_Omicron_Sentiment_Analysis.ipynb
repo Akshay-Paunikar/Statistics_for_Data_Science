{
 "cells": [
  {
   "cell_type": "markdown",
   "id": "e82916ae-4e4d-4da0-bb8b-c8627094d013",
   "metadata": {},
   "source": [
    "<h3>Omicron Sentiment Analysis</h3>"
   ]
  },
  {
   "cell_type": "markdown",
   "id": "376a88b0-1c29-45df-9042-930207f29356",
   "metadata": {},
   "source": [
    "Te WHO designated a new variant of the coronavirus, B.1.1.529, as a variant of concern which has been named Omicron. Right after that, we saw an outbreak of tweets about the Omicron variant on Twitter.We can analyze the sentiments of the tweets about the Omicron variant through the task of Omicron Sentiment Analysis using Python."
   ]
  },
  {
   "cell_type": "code",
   "execution_count": null,
   "id": "b971c8ec-d297-45bb-9e39-64f201ae924f",
   "metadata": {},
   "outputs": [],
   "source": []
  }
 ],
 "metadata": {
  "kernelspec": {
   "display_name": "Python 3 (ipykernel)",
   "language": "python",
   "name": "python3"
  },
  "language_info": {
   "codemirror_mode": {
    "name": "ipython",
    "version": 3
   },
   "file_extension": ".py",
   "mimetype": "text/x-python",
   "name": "python",
   "nbconvert_exporter": "python",
   "pygments_lexer": "ipython3",
   "version": "3.9.18"
  }
 },
 "nbformat": 4,
 "nbformat_minor": 5
}
